{
 "cells": [
  {
   "cell_type": "code",
   "execution_count": 1,
   "id": "b05653a9-9e9b-4461-a8af-ba4ca7883e79",
   "metadata": {},
   "outputs": [
    {
     "data": {
      "text/plain": [
       "117"
      ]
     },
     "execution_count": 1,
     "metadata": {},
     "output_type": "execute_result"
    }
   ],
   "source": [
    "45+72"
   ]
  },
  {
   "cell_type": "code",
   "execution_count": 2,
   "id": "321f9470-23ec-4139-8893-c471e97d7240",
   "metadata": {},
   "outputs": [
    {
     "data": {
      "text/plain": [
       "21.75"
      ]
     },
     "execution_count": 2,
     "metadata": {},
     "output_type": "execute_result"
    }
   ],
   "source": [
    "5*(12.7-4)/2"
   ]
  },
  {
   "cell_type": "markdown",
   "id": "26316022-a5cf-46ac-87e9-1545b13ddc91",
   "metadata": {},
   "source": [
    "Deanna Clayton wrote this on her own computer"
   ]
  },
  {
   "cell_type": "code",
   "execution_count": 3,
   "id": "99d5ab06-ffd7-41b4-96a0-a62ff5ade3c2",
   "metadata": {},
   "outputs": [
    {
     "data": {
      "text/plain": [
       "10"
      ]
     },
     "execution_count": 3,
     "metadata": {},
     "output_type": "execute_result"
    }
   ],
   "source": [
    "10//3+7"
   ]
  },
  {
   "cell_type": "code",
   "execution_count": 4,
   "id": "0e4f4b6d-d0b7-495e-b3a5-96d468c4928a",
   "metadata": {},
   "outputs": [
    {
     "data": {
      "text/plain": [
       "1"
      ]
     },
     "execution_count": 4,
     "metadata": {},
     "output_type": "execute_result"
    }
   ],
   "source": [
    "10%3"
   ]
  },
  {
   "cell_type": "code",
   "execution_count": null,
   "id": "a3c283fd-75b9-4b7d-bed7-83ae6b6d6693",
   "metadata": {},
   "outputs": [],
   "source": []
  }
 ],
 "metadata": {
  "kernelspec": {
   "display_name": "Python 3 (ipykernel)",
   "language": "python",
   "name": "python3"
  },
  "language_info": {
   "codemirror_mode": {
    "name": "ipython",
    "version": 3
   },
   "file_extension": ".py",
   "mimetype": "text/x-python",
   "name": "python",
   "nbconvert_exporter": "python",
   "pygments_lexer": "ipython3",
   "version": "3.9.12"
  }
 },
 "nbformat": 4,
 "nbformat_minor": 5
}
