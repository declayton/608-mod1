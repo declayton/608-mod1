{
 "cells": [
  {
   "cell_type": "markdown",
   "id": "46fd8377-32c0-40ae-9119-41e89005e815",
   "metadata": {},
   "source": [
    "Deanna Clayton Module 1 Bonus"
   ]
  },
  {
   "cell_type": "code",
   "execution_count": 43,
   "id": "e0331a01-8f13-4a76-b6c3-7274bdb68f10",
   "metadata": {},
   "outputs": [],
   "source": [
    "# Instead of using repeated if statements, there are built in functions for most statistical methods. \n",
    "# For example there are functions for the minimum, maximum, and sum of a set of values"
   ]
  },
  {
   "cell_type": "code",
   "execution_count": 44,
   "id": "9f47912c-7846-47c1-a7d3-50ca3b7cc4b4",
   "metadata": {},
   "outputs": [],
   "source": [
    "number_set = [8, 95, 16, 34, 270]"
   ]
  },
  {
   "cell_type": "code",
   "execution_count": 45,
   "id": "49f291ae-d664-4da3-acf5-630a06d9a6dc",
   "metadata": {},
   "outputs": [],
   "source": [
    "# The minimum function finds the smallest value in a set of values and is denoted min()."
   ]
  },
  {
   "cell_type": "code",
   "execution_count": 46,
   "id": "5a64c790-7e6f-452b-b163-bdf7b4006165",
   "metadata": {},
   "outputs": [
    {
     "name": "stdout",
     "output_type": "stream",
     "text": [
      "Min: 8\n"
     ]
    }
   ],
   "source": [
    "print('Min:', min(number_set))"
   ]
  },
  {
   "cell_type": "code",
   "execution_count": 47,
   "id": "91454526-806c-4e28-842f-2457d5476820",
   "metadata": {},
   "outputs": [],
   "source": [
    "# The maximum function finds the largest value in a set of values and is denoted max()."
   ]
  },
  {
   "cell_type": "code",
   "execution_count": 48,
   "id": "7f4ed04d-774a-4988-8dae-2a8b6ad72548",
   "metadata": {},
   "outputs": [
    {
     "name": "stdout",
     "output_type": "stream",
     "text": [
      "Max: 270\n"
     ]
    }
   ],
   "source": [
    "print('Max:', max(number_set))"
   ]
  },
  {
   "cell_type": "code",
   "execution_count": 49,
   "id": "d046c6f0-ef65-4fb9-84ff-53d281617c59",
   "metadata": {},
   "outputs": [],
   "source": [
    "# The sum function adds up the values in the collection and is denoted sum()."
   ]
  },
  {
   "cell_type": "code",
   "execution_count": 50,
   "id": "c933b6c1-e201-4a4f-8761-96fb931a55b2",
   "metadata": {},
   "outputs": [
    {
     "name": "stdout",
     "output_type": "stream",
     "text": [
      "Sum: 423\n"
     ]
    }
   ],
   "source": [
    "print('Sum:', sum(number_set))"
   ]
  },
  {
   "cell_type": "code",
   "execution_count": 51,
   "id": "f6fcd217-b556-4726-a922-9d77d53b2c3b",
   "metadata": {},
   "outputs": [],
   "source": [
    "# The sorted function sorts the values in a set from least to greatest and is denoted sorted()."
   ]
  },
  {
   "cell_type": "code",
   "execution_count": 52,
   "id": "623e1484-0b65-41f7-91d1-a9eab7333941",
   "metadata": {},
   "outputs": [
    {
     "name": "stdout",
     "output_type": "stream",
     "text": [
      "Sorted Number Set: [8, 16, 34, 95, 270]\n"
     ]
    }
   ],
   "source": [
    "print('Sorted Number Set:', sorted(number_set))"
   ]
  }
 ],
 "metadata": {
  "kernelspec": {
   "display_name": "Python 3 (ipykernel)",
   "language": "python",
   "name": "python3"
  },
  "language_info": {
   "codemirror_mode": {
    "name": "ipython",
    "version": 3
   },
   "file_extension": ".py",
   "mimetype": "text/x-python",
   "name": "python",
   "nbconvert_exporter": "python",
   "pygments_lexer": "ipython3",
   "version": "3.9.12"
  }
 },
 "nbformat": 4,
 "nbformat_minor": 5
}
