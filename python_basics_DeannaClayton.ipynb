{
 "cells": [
  {
   "cell_type": "markdown",
   "id": "2a211442-7ef6-49cb-ad8d-504d6157596b",
   "metadata": {},
   "source": [
    "Deanna Clayton 2.9.3 Project"
   ]
  },
  {
   "cell_type": "code",
   "execution_count": 8,
   "id": "704ce138-5a6f-440a-af84-c7d2e195e558",
   "metadata": {},
   "outputs": [],
   "source": [
    "Numbers = [2, 5, 8]"
   ]
  },
  {
   "cell_type": "code",
   "execution_count": 14,
   "id": "fd5bdefc-9aff-4f8f-82a6-c16b1d689e70",
   "metadata": {},
   "outputs": [
    {
     "name": "stdout",
     "output_type": "stream",
     "text": [
      "Min: 2\n"
     ]
    }
   ],
   "source": [
    "print('Min:', min(numbers))"
   ]
  },
  {
   "cell_type": "code",
   "execution_count": 15,
   "id": "9c2ba206-94d8-4b02-9d8f-b3329cac6c40",
   "metadata": {},
   "outputs": [
    {
     "name": "stdout",
     "output_type": "stream",
     "text": [
      "Max: 8\n"
     ]
    }
   ],
   "source": [
    "print('Max:', max(numbers))"
   ]
  },
  {
   "cell_type": "code",
   "execution_count": 16,
   "id": "d277d381-bac1-4e10-9158-96efb33cbce5",
   "metadata": {},
   "outputs": [
    {
     "name": "stdout",
     "output_type": "stream",
     "text": [
      "Sum: 15\n"
     ]
    }
   ],
   "source": [
    "print('Sum:', sum(numbers))"
   ]
  },
  {
   "cell_type": "code",
   "execution_count": 17,
   "id": "f01f8e8b-23df-479f-8f4d-fded8e0808b7",
   "metadata": {},
   "outputs": [
    {
     "name": "stdout",
     "output_type": "stream",
     "text": [
      "Range: 2 - 8\n"
     ]
    }
   ],
   "source": [
    "print('Range:', min(numbers), '-', max(numbers))"
   ]
  },
  {
   "cell_type": "code",
   "execution_count": 20,
   "id": "e56e8a7f-37dc-42fb-8e86-c601630dac62",
   "metadata": {},
   "outputs": [
    {
     "name": "stdout",
     "output_type": "stream",
     "text": [
      "Length: 3\n"
     ]
    }
   ],
   "source": [
    "print('Length:', len(numbers))"
   ]
  },
  {
   "cell_type": "code",
   "execution_count": 21,
   "id": "45224e74-d4f5-4361-a7ab-4125d18ceaa8",
   "metadata": {},
   "outputs": [
    {
     "name": "stdout",
     "output_type": "stream",
     "text": [
      "Average: 5.0\n"
     ]
    }
   ],
   "source": [
    "print('Average:', sum(numbers) / len(numbers))"
   ]
  },
  {
   "cell_type": "code",
   "execution_count": null,
   "id": "128dcb88-e220-4912-ab28-5dc413ffb8e1",
   "metadata": {},
   "outputs": [],
   "source": []
  }
 ],
 "metadata": {
  "kernelspec": {
   "display_name": "Python 3 (ipykernel)",
   "language": "python",
   "name": "python3"
  },
  "language_info": {
   "codemirror_mode": {
    "name": "ipython",
    "version": 3
   },
   "file_extension": ".py",
   "mimetype": "text/x-python",
   "name": "python",
   "nbconvert_exporter": "python",
   "pygments_lexer": "ipython3",
   "version": "3.9.12"
  }
 },
 "nbformat": 4,
 "nbformat_minor": 5
}
